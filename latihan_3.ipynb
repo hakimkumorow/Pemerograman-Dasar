{
  "nbformat": 4,
  "nbformat_minor": 0,
  "metadata": {
    "colab": {
      "provenance": [],
      "authorship_tag": "ABX9TyN3xmZJmWjSHnOkrJsiMSyV",
      "include_colab_link": true
    },
    "kernelspec": {
      "name": "python3",
      "display_name": "Python 3"
    },
    "language_info": {
      "name": "python"
    }
  },
  "cells": [
    {
      "cell_type": "markdown",
      "metadata": {
        "id": "view-in-github",
        "colab_type": "text"
      },
      "source": [
        "<a href=\"https://colab.research.google.com/github/hakimkumorow/Pemerograman-Dasar/blob/main/latihan_3.ipynb\" target=\"_parent\"><img src=\"https://colab.research.google.com/assets/colab-badge.svg\" alt=\"Open In Colab\"/></a>"
      ]
    },
    {
      "cell_type": "code",
      "execution_count": null,
      "metadata": {
        "colab": {
          "base_uri": "https://localhost:8080/",
          "height": 70
        },
        "id": "cI69wGq1WBkj",
        "outputId": "e6956510-9fab-4d20-826b-308dcb8105ef"
      },
      "outputs": [
        {
          "name": "stdout",
          "output_type": "stream",
          "text": [
            "berapa porsi makan yang anda beli? : 10\n",
            "siapa nama pelanggan ? : Donesi\n"
          ]
        },
        {
          "output_type": "execute_result",
          "data": {
            "text/plain": [
              "'Donesi'"
            ],
            "application/vnd.google.colaboratory.intrinsic+json": {
              "type": "string"
            }
          },
          "metadata": {},
          "execution_count": 1
        }
      ],
      "source": [
        "input(\"berapa porsi makan yang anda beli? : \")\n",
        "input(\"siapa nama pelanggan ? : \")"
      ]
    },
    {
      "cell_type": "code",
      "source": [
        "int (input(\"berapa porsi makan yang anda beli? ; \"))\n",
        "str (input(\"siapa nama pelanggan ? \"))"
      ],
      "metadata": {
        "colab": {
          "base_uri": "https://localhost:8080/",
          "height": 70
        },
        "id": "bVrfWKMHXKCi",
        "outputId": "0b6ab38c-a0db-420a-e614-039e688ea2e6"
      },
      "execution_count": null,
      "outputs": [
        {
          "name": "stdout",
          "output_type": "stream",
          "text": [
            "berapa porsi makan yang anda beli? ; 5\n",
            "siapa nama pelanggan ? CS\n"
          ]
        },
        {
          "output_type": "execute_result",
          "data": {
            "text/plain": [
              "'CS'"
            ],
            "application/vnd.google.colaboratory.intrinsic+json": {
              "type": "string"
            }
          },
          "metadata": {},
          "execution_count": 2
        }
      ]
    },
    {
      "cell_type": "code",
      "source": [
        "food = \"Mi ayam bakso\"\n",
        "print(\"Hendi sedang memesan\", food)"
      ],
      "metadata": {
        "colab": {
          "base_uri": "https://localhost:8080/"
        },
        "id": "u7V1CTNFX5S7",
        "outputId": "30164fda-4a6d-4644-ddcd-bf62eff22a91"
      },
      "execution_count": null,
      "outputs": [
        {
          "output_type": "stream",
          "name": "stdout",
          "text": [
            "Hendi sedang memesan Mi ayam bakso\n"
          ]
        }
      ]
    },
    {
      "cell_type": "code",
      "source": [
        "food = \"batu aji\"\n",
        "tinggi = 1.80\n",
        "umur = 30\n",
        "\n",
        "print(\"Hendi tinggal di %s\" % (food))\n",
        "print(\"Hendi memiliki tinngi %f\" % (tinggi))\n",
        "print(\"Hendi berumur %d\" % (umur))"
      ],
      "metadata": {
        "colab": {
          "base_uri": "https://localhost:8080/"
        },
        "id": "078cTgi5YQdc",
        "outputId": "3fa50e9e-e264-4a80-ad0d-8304298a6af6"
      },
      "execution_count": null,
      "outputs": [
        {
          "output_type": "stream",
          "name": "stdout",
          "text": [
            "Hendi tinggal di batu aji\n",
            "Hendi memiliki tinngi 1.800000\n",
            "Hendi berumur 30\n"
          ]
        }
      ]
    },
    {
      "cell_type": "code",
      "source": [
        "H = 40\n",
        "K = 2\n",
        "print(\"penjualan\", H + K)\n",
        "print(\"penjualan\", H - K)\n",
        "print(\"penjualan\", H * K)\n",
        "print(\"penjualan\", H / K)"
      ],
      "metadata": {
        "colab": {
          "base_uri": "https://localhost:8080/"
        },
        "id": "hNULIWrCY5mf",
        "outputId": "e0eb164c-459e-4b81-973a-44c87fb2060d"
      },
      "execution_count": null,
      "outputs": [
        {
          "output_type": "stream",
          "name": "stdout",
          "text": [
            "penjualan 42\n",
            "penjualan 38\n",
            "penjualan 80\n",
            "penjualan 20.0\n"
          ]
        }
      ]
    },
    {
      "cell_type": "code",
      "source": [
        "bilangan = 3\n",
        "hasil = (bilangan > 0) and (bilangan % 2 == 0)\n",
        "print(\"Genap dan positif\", hasil)"
      ],
      "metadata": {
        "colab": {
          "base_uri": "https://localhost:8080/"
        },
        "id": "Do1K1IQ2bNgg",
        "outputId": "79e3b21b-23a1-47de-f9ae-adb11f87435f"
      },
      "execution_count": null,
      "outputs": [
        {
          "output_type": "stream",
          "name": "stdout",
          "text": [
            "Genap dan positif False\n"
          ]
        }
      ]
    },
    {
      "cell_type": "code",
      "source": [
        "harga_Barang = int(input(\"berapa harga rotan per pcs? \"))\n",
        "jumlah_Barang = int(input(\"berapa pcs yang anda beli? \"))\n",
        "total_Barang = harga_Barang * jumlah_Barang\n",
        "\n",
        "print(f\"harga barang per pcs = {harga_Barang}, totalnya adalah {total_Barang}\")"
      ],
      "metadata": {
        "colab": {
          "base_uri": "https://localhost:8080/"
        },
        "id": "qk_O8_bzcBKI",
        "outputId": "5bfbd514-a801-47dc-cbe0-93c1a718d660"
      },
      "execution_count": null,
      "outputs": [
        {
          "output_type": "stream",
          "name": "stdout",
          "text": [
            "berapa harga rotan per pcs? 15000\n",
            "berapa pcs yang anda beli? 3\n",
            "harga barang per pcs = 15000, totalnya adalah 45000\n"
          ]
        }
      ]
    },
    {
      "cell_type": "code",
      "source": [
        "total_detik = 3600\n",
        "jam = total_detik // 3600\n",
        "sisa_detik = total_detik % 3600\n",
        "menit = sisa_detik // 60\n",
        "detik = sisa_detik% 60\n",
        "print(f\"hasil konversi: {jam} Jam, {menit} Menit, {detik} Detik\")\n",
        "\n",
        "total_detik = int (input(\"total_detik\"))"
      ],
      "metadata": {
        "colab": {
          "base_uri": "https://localhost:8080/"
        },
        "id": "r5orFtbEfL7k",
        "outputId": "fa505420-5603-4d6b-f745-de642b25699c"
      },
      "execution_count": null,
      "outputs": [
        {
          "name": "stdout",
          "output_type": "stream",
          "text": [
            "hasil konversi: 1 Jam, 0 Menit, 0 Detik\n",
            "total_detik358200\n"
          ]
        }
      ]
    },
    {
      "cell_type": "code",
      "source": [
        "tugas = 50\n",
        "uts = 75\n",
        "uas = 100\n",
        "nilai_akhir = (0.3 * tugas) + (0.3 * uts) + (0.4 * uas)\n",
        "print(\"nilai akhir\", nilai_akhir)\n"
      ],
      "metadata": {
        "colab": {
          "base_uri": "https://localhost:8080/"
        },
        "id": "bmuAZYI5gGWz",
        "outputId": "75ea99e7-cc77-4cfc-9219-6ce3d8bec496"
      },
      "execution_count": null,
      "outputs": [
        {
          "output_type": "stream",
          "name": "stdout",
          "text": [
            "nilai akhir 77.5\n"
          ]
        }
      ]
    },
    {
      "cell_type": "code",
      "source": [
        "nilai_mahasiswa = int(input(\"Masukkan nilai mahasiswa: \"))\n",
        "standar_kelulusan = float(input(\"Masukkan standar kelulusan: \"))\n",
        "apakah_lulus = nilai_mahasiswa >= standar_kelulusan\n",
        "perlu_remedial = nilai_mahasiswa < standar_kelulusan\n",
        "\n",
        "print(f\"Nilai Mahasiswa: {nilai_mahasiswa}\")\n",
        "print(f\"Standar Kelulusan: {standar_kelulusan}\")\n",
        "print(f\"Apakah Mahasiswa Lulus? {apakah_lulus}\")\n",
        "print(f\"Perlu Remedial? {perlu_remedial}\")"
      ],
      "metadata": {
        "colab": {
          "base_uri": "https://localhost:8080/"
        },
        "id": "5r0IhGMVg8-J",
        "outputId": "d7f9b566-2c23-4790-a7a2-d07246dd7e45"
      },
      "execution_count": null,
      "outputs": [
        {
          "output_type": "stream",
          "name": "stdout",
          "text": [
            "Masukkan nilai mahasiswa: 80\n",
            "Masukkan standar kelulusan: 70\n",
            "Nilai Mahasiswa: 80\n",
            "Standar Kelulusan: 70.0\n",
            "Apakah Mahasiswa Lulus? True\n",
            "Perlu Remedial? False\n"
          ]
        }
      ]
    },
    {
      "cell_type": "code",
      "source": [
        "standar_kelulusan = int(input(\"Masukkan standar kelulusan: \"))\n",
        "\n",
        "nilai1 = int(input(\"Masukkan nilai mahasiswa 1: \"))\n",
        "nilai2 = int(input(\"Masukkan nilai mahasiswa 2: \"))\n",
        "nilai3 = int(input(\"Masukkan nilai mahasiswa 3: \"))\n",
        "nilai4 = int(input(\"Masukkan nilai mahasiswa 4: \"))\n",
        "nilai5 = int(input(\"Masukkan nilai mahasiswa 5: \"))\n",
        "\n",
        "nilai_mahasiswa = [nilai1, nilai2, nilai3, nilai4, nilai5]\n",
        "\n",
        "for i, nilai in enumerate(nilai_mahasiswa, start=1):\n",
        "    apakah_lulus = nilai >= standar_kelulusan\n",
        "    perlu_remedial = nilai < standar_kelulusan\n",
        "\n",
        "    print(f\"\\nMahasiswa {i}:\")\n",
        "    print(f\"Nilai Mahasiswa: {nilai}\")\n",
        "    print(f\"Standar Kelulusan: {standar_kelulusan}\")\n",
        "    print(f\"Apakah Mahasiswa Lulus? {apakah_lulus}\")\n",
        "    print(f\"Perlu Remedial? {perlu_remedial}\")\n"
      ],
      "metadata": {
        "colab": {
          "base_uri": "https://localhost:8080/"
        },
        "id": "hYAWeVcLlNyB",
        "outputId": "f0551e4f-d9fb-4cc4-c1b3-cff6d5e8fd31"
      },
      "execution_count": null,
      "outputs": [
        {
          "output_type": "stream",
          "name": "stdout",
          "text": [
            "Masukkan standar kelulusan: 80\n",
            "Masukkan nilai mahasiswa 1: 85\n",
            "Masukkan nilai mahasiswa 2: 75\n",
            "Masukkan nilai mahasiswa 3: 80\n",
            "Masukkan nilai mahasiswa 4: 85\n",
            "Masukkan nilai mahasiswa 5: 90\n",
            "\n",
            "Mahasiswa 1:\n",
            "Nilai Mahasiswa: 85\n",
            "Standar Kelulusan: 80\n",
            "Apakah Mahasiswa Lulus? True\n",
            "Perlu Remedial? False\n",
            "\n",
            "Mahasiswa 2:\n",
            "Nilai Mahasiswa: 75\n",
            "Standar Kelulusan: 80\n",
            "Apakah Mahasiswa Lulus? False\n",
            "Perlu Remedial? True\n",
            "\n",
            "Mahasiswa 3:\n",
            "Nilai Mahasiswa: 80\n",
            "Standar Kelulusan: 80\n",
            "Apakah Mahasiswa Lulus? True\n",
            "Perlu Remedial? False\n",
            "\n",
            "Mahasiswa 4:\n",
            "Nilai Mahasiswa: 85\n",
            "Standar Kelulusan: 80\n",
            "Apakah Mahasiswa Lulus? True\n",
            "Perlu Remedial? False\n",
            "\n",
            "Mahasiswa 5:\n",
            "Nilai Mahasiswa: 90\n",
            "Standar Kelulusan: 80\n",
            "Apakah Mahasiswa Lulus? True\n",
            "Perlu Remedial? False\n"
          ]
        }
      ]
    },
    {
      "cell_type": "code",
      "source": [
        "belanja = 1200000\n",
        "diskon = (0, 0.35 * belanja)[belanja > 500000]\n",
        "total_harga = belanja - diskon\n",
        "print(\"total harga setelah diskon =\", total_harga)"
      ],
      "metadata": {
        "colab": {
          "base_uri": "https://localhost:8080/"
        },
        "id": "2rHGqszml8UJ",
        "outputId": "99596bc6-251b-4333-c309-c26d7a63ec17"
      },
      "execution_count": null,
      "outputs": [
        {
          "output_type": "stream",
          "name": "stdout",
          "text": [
            "total harga setelah diskon = 780000.0\n"
          ]
        }
      ]
    },
    {
      "cell_type": "code",
      "source": [
        "total = float(input(\"Berapa porsi makan yang Anda beli? : \"))\n",
        "nama  = str(input(\"Siapa Nama Pelanggan ? : \"))\n",
        "\n",
        "print(f\"Pelanggan {nama} membeli {total} porsi makanan.\")"
      ],
      "metadata": {
        "colab": {
          "base_uri": "https://localhost:8080/"
        },
        "id": "4LWgAYCPc2Wy",
        "outputId": "af33006f-6eec-48af-c2ff-859e4270be04"
      },
      "execution_count": null,
      "outputs": [
        {
          "output_type": "stream",
          "name": "stdout",
          "text": [
            "Berapa porsi makan yang Anda beli? : 10\n",
            "Siapa Nama Pelanggan ? : Donesi\n",
            "Pelanggan Donesi membeli 10.0 porsi makanan.\n"
          ]
        }
      ]
    },
    {
      "cell_type": "code",
      "source": [
        "umur = 20\n",
        "print(\"Umur saya adalah %d tahun\" % (umur))\n",
        "\n",
        "nilai = 85.5\n",
        "print(\"Nilai ujian saya adalah %f\" % (nilai))\n",
        "print(\"Nilai ujian saya dibulatkan menjadi %.2f\" % (nilai))\n",
        "\n",
        "makanan = \"Mi ayam bakso\"\n",
        "print(\"Hendi sedang memesan %s\" % (makanan))\n",
        "\n",
        "angka = 255\n",
        "print(\"Angka %d dalam heksadesimal adalah %x\" % (angka, angka))\n",
        "\n",
        "angka = 64\n",
        "print(\"Angka %d dalam oktal adalah %o\" % (angka, angka))"
      ],
      "metadata": {
        "colab": {
          "base_uri": "https://localhost:8080/"
        },
        "id": "Mn-7ls8geDsC",
        "outputId": "feb29de3-d5cb-417a-d969-dee565a20b03"
      },
      "execution_count": null,
      "outputs": [
        {
          "output_type": "stream",
          "name": "stdout",
          "text": [
            "Umur saya adalah 20 tahun\n",
            "Nilai ujian saya adalah 85.500000\n",
            "Nilai ujian saya dibulatkan menjadi 85.50\n",
            "Hendi sedang memesan Mi ayam bakso\n",
            "Angka 255 dalam heksadesimal adalah ff\n",
            "Angka 64 dalam oktal adalah 100\n"
          ]
        }
      ]
    },
    {
      "cell_type": "code",
      "source": [
        "a = 20\n",
        "b = 5\n",
        "print(\"Penjumlahan:\", a + b)\n",
        "print(\"Pengurangan:\", a - b)\n",
        "print(\"Perkalian:\", a * b)\n",
        "print(\"Pembagian:\", a / b)\n"
      ],
      "metadata": {
        "colab": {
          "base_uri": "https://localhost:8080/"
        },
        "id": "C1FftuaRg1H9",
        "outputId": "5af7631e-5ecd-48bd-e993-7d28eb9af42a"
      },
      "execution_count": null,
      "outputs": [
        {
          "output_type": "stream",
          "name": "stdout",
          "text": [
            "Penjumlahan: 25\n",
            "Pengurangan: 15\n",
            "Perkalian: 100\n",
            "Pembagian: 4.0\n"
          ]
        }
      ]
    },
    {
      "cell_type": "code",
      "source": [
        "harga_makan = int(input(\"Berapa harga mi ayam per porsi? \"))\n",
        "jumlah_makan = int(input(\"Berapa porsi yang Anda beli? \"))\n",
        "total_makan = harga_makan * jumlah_makan\n",
        "\n",
        "print(f\"Harga makan per porsi = {harga_makan}, totalnya adalah {total_makan}\")\n"
      ],
      "metadata": {
        "colab": {
          "base_uri": "https://localhost:8080/"
        },
        "id": "CkGZhjiVif7C",
        "outputId": "e512758b-7578-475b-fd89-73530ecd4161"
      },
      "execution_count": null,
      "outputs": [
        {
          "output_type": "stream",
          "name": "stdout",
          "text": [
            "Berapa harga mi ayam per porsi? 15000\n",
            "Berapa porsi yang Anda beli? 3\n",
            "Harga makan per porsi = 15000, totalnya adalah 45000\n"
          ]
        }
      ]
    },
    {
      "cell_type": "code",
      "source": [
        "bilangan = 8\n",
        "hasil = (bilangan > 0) and (bilangan % 2 == 0)\n",
        "print(\"Genap\", hasil)"
      ],
      "metadata": {
        "colab": {
          "base_uri": "https://localhost:8080/"
        },
        "id": "yYiZ8K3PSgc1",
        "outputId": "ab6a8959-5f78-4e1f-bced-b001cc4a798e"
      },
      "execution_count": null,
      "outputs": [
        {
          "output_type": "stream",
          "name": "stdout",
          "text": [
            "Genap True\n"
          ]
        }
      ]
    },
    {
      "cell_type": "code",
      "source": [
        "total_detik = int(input(\"Masukkan total detik: \"))\n",
        "\n",
        "jam = total_detik // 3600\n",
        "sisa_detik = total_detik % 3600\n",
        "menit = sisa_detik // 60\n",
        "detik = sisa_detik % 60\n",
        "\n",
        "print(f\"Hasil Konversi: {jam} Jam, {menit} Menit, {detik} Detik\")\n"
      ],
      "metadata": {
        "colab": {
          "base_uri": "https://localhost:8080/"
        },
        "id": "qE3mnr7WaqhE",
        "outputId": "794503b4-293a-4439-ca84-d452983bf38c"
      },
      "execution_count": null,
      "outputs": [
        {
          "output_type": "stream",
          "name": "stdout",
          "text": [
            "Masukkan total detik: 358200\n",
            "Hasil Konversi: 99 Jam, 30 Menit, 0 Detik\n"
          ]
        }
      ]
    },
    {
      "cell_type": "code",
      "source": [
        "tugas = 80   # Nilai tugas\n",
        "uts = 70     # Nilai UTS\n",
        "uas = 90     # Nilai UAS\n",
        "\n",
        "nilai_akhir = (0.3 * tugas) + (0.3 * uts) + (0.4 * uas)\n",
        "print(\"Nilai akhir =\", nilai_akhir)\n"
      ],
      "metadata": {
        "colab": {
          "base_uri": "https://localhost:8080/"
        },
        "id": "WqgUDVnj3mnm",
        "outputId": "27a648bd-dab8-47bd-d520-31166f0da167"
      },
      "execution_count": 2,
      "outputs": [
        {
          "output_type": "stream",
          "name": "stdout",
          "text": [
            "Nilai akhir = 81.0\n"
          ]
        }
      ]
    },
    {
      "cell_type": "code",
      "source": [
        "tugas1 = float(input(\"Masukkan nilai Tugas 1: \"))\n",
        "tugas2 = float(input(\"Masukkan nilai Tugas 2: \"))\n",
        "uts = float(input(\"Masukkan nilai UTS: \"))\n",
        "uas = float(input(\"Masukkan nilai UAS: \"))\n",
        "praktikum = float(input(\"Masukkan nilai Praktikum: \"))\n",
        "\n",
        "nilai_mahasiswa = (tugas1 + tugas2 + uts + uas + praktikum) / 5\n",
        "\n",
        "standar_kelulusan = float(input(\"Masukkan standar kelulusan: \"))\n",
        "\n",
        "apakah_lulus = nilai_mahasiswa >= standar_kelulusan\n",
        "perlu_remedial = nilai_mahasiswa < standar_kelulusan\n",
        "\n",
        "print(f\"Nilai Mahasiswa: {nilai_mahasiswa}\")\n",
        "print(f\"Standar Kelulusan: {standar_kelulusan}\")\n",
        "print(f\"Apakah Mahasiswa Lulus? {apakah_lulus}\")\n",
        "print(f\"Perlu Remedial? {perlu_remedial}\")\n"
      ],
      "metadata": {
        "colab": {
          "base_uri": "https://localhost:8080/"
        },
        "id": "vJQAGLQe9XSn",
        "outputId": "4a3100ac-741d-4306-8b10-2d44343c3fc2"
      },
      "execution_count": 6,
      "outputs": [
        {
          "output_type": "stream",
          "name": "stdout",
          "text": [
            "Masukkan nilai Tugas 1: 75\n",
            "Masukkan nilai Tugas 2: 80\n",
            "Masukkan nilai UTS: 85\n",
            "Masukkan nilai UAS: 80\n",
            "Masukkan nilai Praktikum: 90\n",
            "Masukkan standar kelulusan: 90\n",
            "Nilai Mahasiswa: 82.0\n",
            "Standar Kelulusan: 90.0\n",
            "Apakah Mahasiswa Lulus? False\n",
            "Perlu Remedial? True\n"
          ]
        }
      ]
    }
  ]
}