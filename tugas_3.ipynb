{
  "nbformat": 4,
  "nbformat_minor": 0,
  "metadata": {
    "colab": {
      "provenance": [],
      "authorship_tag": "ABX9TyMMaGrPD8cvcd1uOx9TQ+Io",
      "include_colab_link": true
    },
    "kernelspec": {
      "name": "python3",
      "display_name": "Python 3"
    },
    "language_info": {
      "name": "python"
    }
  },
  "cells": [
    {
      "cell_type": "markdown",
      "metadata": {
        "id": "view-in-github",
        "colab_type": "text"
      },
      "source": [
        "<a href=\"https://colab.research.google.com/github/hakimkumorow/Pemerograman-Dasar/blob/main/tugas_3.ipynb\" target=\"_parent\"><img src=\"https://colab.research.google.com/assets/colab-badge.svg\" alt=\"Open In Colab\"/></a>"
      ]
    },
    {
      "cell_type": "code",
      "execution_count": 2,
      "metadata": {
        "colab": {
          "base_uri": "https://localhost:8080/"
        },
        "id": "uTerk9L6IHa-",
        "outputId": "879b1c5e-a905-4573-ba74-bae19404da65"
      },
      "outputs": [
        {
          "output_type": "stream",
          "name": "stdout",
          "text": [
            "Masukkan jumlah item yang dibeli: 5\n",
            "Masukkan harga item ke-1: Rp 25000\n",
            "Masukkan harga item ke-2: Rp 50000\n",
            "Masukkan harga item ke-3: Rp 35000\n",
            "Masukkan harga item ke-4: Rp 10000\n",
            "Masukkan harga item ke-5: Rp 20000\n",
            "Apakah pelanggan member? (ya/tidak): ya\n",
            "\n",
            "===== Struk Belanja =====\n",
            "Subtotal           : Rp 140,000\n",
            "Diskon             : Rp 21,000\n",
            "Harga setelah diskon: Rp 119,000\n",
            "PPN (11%)          : Rp 13,090\n",
            "Total yang harus dibayar: Rp 132,090\n"
          ]
        }
      ],
      "source": [
        "jumlah_item = int(input(\"Masukkan jumlah item yang dibeli: \"))\n",
        "\n",
        "subtotal = 0\n",
        "for i in range(jumlah_item):\n",
        "    harga = float(input(f\"Masukkan harga item ke-{i+1}: Rp \"))\n",
        "    subtotal += harga\n",
        "\n",
        "member = input(\"Apakah pelanggan member? (ya/tidak): \").lower()\n",
        "\n",
        "if member == \"ya\" and subtotal > 100000:\n",
        "    diskon = 0.15 * subtotal\n",
        "else:\n",
        "    diskon = 0\n",
        "\n",
        "harga_setelah_diskon = subtotal - diskon\n",
        "ppn = 0.11 * harga_setelah_diskon\n",
        "total_akhir = harga_setelah_diskon + ppn\n",
        "\n",
        "print(\"\\n===== Struk Belanja =====\")\n",
        "print(f\"Subtotal           : Rp {subtotal:,.0f}\")\n",
        "print(f\"Diskon             : Rp {diskon:,.0f}\")\n",
        "print(f\"Harga setelah diskon: Rp {harga_setelah_diskon:,.0f}\")\n",
        "print(f\"PPN (11%)          : Rp {ppn:,.0f}\")\n",
        "print(f\"Total yang harus dibayar: Rp {total_akhir:,.0f}\")\\"
      ]
    }
  ]
}