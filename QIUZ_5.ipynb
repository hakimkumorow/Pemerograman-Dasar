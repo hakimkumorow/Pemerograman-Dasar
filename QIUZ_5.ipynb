{
  "nbformat": 4,
  "nbformat_minor": 0,
  "metadata": {
    "colab": {
      "provenance": [],
      "authorship_tag": "ABX9TyOuz2cihbk1+UrLgo/kCd4G",
      "include_colab_link": true
    },
    "kernelspec": {
      "name": "python3",
      "display_name": "Python 3"
    },
    "language_info": {
      "name": "python"
    }
  },
  "cells": [
    {
      "cell_type": "markdown",
      "metadata": {
        "id": "view-in-github",
        "colab_type": "text"
      },
      "source": [
        "<a href=\"https://colab.research.google.com/github/hakimkumorow/Pemerograman-Dasar/blob/main/QIUZ_5.ipynb\" target=\"_parent\"><img src=\"https://colab.research.google.com/assets/colab-badge.svg\" alt=\"Open In Colab\"/></a>"
      ]
    },
    {
      "cell_type": "code",
      "execution_count": null,
      "metadata": {
        "colab": {
          "base_uri": "https://localhost:8080/"
        },
        "id": "Hd86FjtvvgVI",
        "outputId": "b65bb46a-2bf1-4b58-e0ad-fb7ddcf451dd"
      },
      "outputs": [
        {
          "output_type": "stream",
          "name": "stdout",
          "text": [
            "- Menampilkan Nama 20 Kali -\n",
            "Rizqi Hakim Kumorow\n",
            "Rizqi Hakim Kumorow\n",
            "Rizqi Hakim Kumorow\n",
            "Rizqi Hakim Kumorow\n",
            "Rizqi Hakim Kumorow\n",
            "Rizqi Hakim Kumorow\n",
            "Rizqi Hakim Kumorow\n",
            "Rizqi Hakim Kumorow\n",
            "Rizqi Hakim Kumorow\n",
            "Rizqi Hakim Kumorow\n",
            "Rizqi Hakim Kumorow\n",
            "Rizqi Hakim Kumorow\n",
            "Rizqi Hakim Kumorow\n",
            "Rizqi Hakim Kumorow\n",
            "Rizqi Hakim Kumorow\n",
            "Rizqi Hakim Kumorow\n",
            "Rizqi Hakim Kumorow\n",
            "Rizqi Hakim Kumorow\n",
            "Rizqi Hakim Kumorow\n",
            "Rizqi Hakim Kumorow\n"
          ]
        }
      ],
      "source": [
        "print(\"- Menampilkan Nama 20 Kali -\")\n",
        "\n",
        "for i in range(20):\n",
        "    print(\"Rizqi Hakim Kumorow\")"
      ]
    },
    {
      "cell_type": "code",
      "source": [],
      "metadata": {
        "colab": {
          "base_uri": "https://localhost:8080/"
        },
        "id": "iJFuKFgXyAHN",
        "outputId": "ae3d3f7e-817c-47e8-8b78-b839f8586c9a"
      },
      "execution_count": null,
      "outputs": [
        {
          "output_type": "stream",
          "name": "stdout",
          "text": [
            "- Menampilkan Angka 1 sampai 500 -\n",
            "1\n",
            "51\n",
            "101\n",
            "151\n",
            "201\n",
            "251\n",
            "301\n",
            "351\n",
            "401\n",
            "451\n",
            "501\n"
          ]
        }
      ]
    },
    {
      "cell_type": "code",
      "source": [
        "print(\"- Menampilkan Deret Angka 100 sampai 200 dengan while loop -\")\n",
        "\n",
        "angka = 100\n",
        "while angka <= 200:\n",
        "    print(angka)\n",
        "    angka += 1"
      ],
      "metadata": {
        "colab": {
          "base_uri": "https://localhost:8080/"
        },
        "id": "QVIQMgNK6_nd",
        "outputId": "c6f3a4fd-4f70-48de-ce11-dea24f33b47c"
      },
      "execution_count": null,
      "outputs": [
        {
          "output_type": "stream",
          "name": "stdout",
          "text": [
            "- Menampilkan Deret Angka 100 sampai 200 dengan while loop -\n",
            "100\n",
            "101\n",
            "102\n",
            "103\n",
            "104\n",
            "105\n",
            "106\n",
            "107\n",
            "108\n",
            "109\n",
            "110\n",
            "111\n",
            "112\n",
            "113\n",
            "114\n",
            "115\n",
            "116\n",
            "117\n",
            "118\n",
            "119\n",
            "120\n",
            "121\n",
            "122\n",
            "123\n",
            "124\n",
            "125\n",
            "126\n",
            "127\n",
            "128\n",
            "129\n",
            "130\n",
            "131\n",
            "132\n",
            "133\n",
            "134\n",
            "135\n",
            "136\n",
            "137\n",
            "138\n",
            "139\n",
            "140\n",
            "141\n",
            "142\n",
            "143\n",
            "144\n",
            "145\n",
            "146\n",
            "147\n",
            "148\n",
            "149\n",
            "150\n",
            "151\n",
            "152\n",
            "153\n",
            "154\n",
            "155\n",
            "156\n",
            "157\n",
            "158\n",
            "159\n",
            "160\n",
            "161\n",
            "162\n",
            "163\n",
            "164\n",
            "165\n",
            "166\n",
            "167\n",
            "168\n",
            "169\n",
            "170\n",
            "171\n",
            "172\n",
            "173\n",
            "174\n",
            "175\n",
            "176\n",
            "177\n",
            "178\n",
            "179\n",
            "180\n",
            "181\n",
            "182\n",
            "183\n",
            "184\n",
            "185\n",
            "186\n",
            "187\n",
            "188\n",
            "189\n",
            "190\n",
            "191\n",
            "192\n",
            "193\n",
            "194\n",
            "195\n",
            "196\n",
            "197\n",
            "198\n",
            "199\n",
            "200\n"
          ]
        }
      ]
    },
    {
      "cell_type": "code",
      "source": [
        "print(\"- Program Penjumlahan Bilangan Genap -\")\n",
        "\n",
        "ulang = \"y\"\n",
        "while ulang.lower() == \"y\":\n",
        "    batas = int(input(\"Silahkan masukkan batas angka untuk melakukan penjumlahan : \"))\n",
        "    total = 0\n",
        "\n",
        "    for i in range(2, batas + 1, 2):\n",
        "        total += i\n",
        "\n",
        "    print(f\"Jumlah bilangan genap dari 1 sampai {batas} adalah: {total}\")\n",
        "    ulang = input(\"Apakah kamu mau menambahkan angka lagi? (y/n): \")\n",
        "\n",
        "print(\"Penjumlahan Bilangan Genap anda telah selesai. Terima kasih!\")\n"
      ],
      "metadata": {
        "colab": {
          "base_uri": "https://localhost:8080/"
        },
        "id": "Up8hZk05CwoQ",
        "outputId": "6460973e-43d7-443c-9e1b-0fa7d7f76400"
      },
      "execution_count": null,
      "outputs": [
        {
          "output_type": "stream",
          "name": "stdout",
          "text": [
            "- Program Penjumlahan Bilangan Genap -\n",
            "Silahkan masukkan batas angka untuk melakukan penjumlahan : 60\n",
            "Jumlah bilangan genap dari 1 sampai 60 adalah: 930\n",
            "Apakah kamu mau menambahkan angka lagi? (y/n): 24\n",
            "Penjumlahan Bilangan Genap anda telah selesai. Terima kasih!\n"
          ]
        }
      ]
    }
  ]
}