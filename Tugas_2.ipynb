{
  "nbformat": 4,
  "nbformat_minor": 0,
  "metadata": {
    "colab": {
      "provenance": [],
      "authorship_tag": "ABX9TyMlgOEVT9lD2IAKFSeedkBd",
      "include_colab_link": true
    },
    "kernelspec": {
      "name": "python3",
      "display_name": "Python 3"
    },
    "language_info": {
      "name": "python"
    }
  },
  "cells": [
    {
      "cell_type": "markdown",
      "metadata": {
        "id": "view-in-github",
        "colab_type": "text"
      },
      "source": [
        "<a href=\"https://colab.research.google.com/github/hakimkumorow/Pemerograman-Dasar/blob/main/Tugas_2.ipynb\" target=\"_parent\"><img src=\"https://colab.research.google.com/assets/colab-badge.svg\" alt=\"Open In Colab\"/></a>"
      ]
    },
    {
      "cell_type": "code",
      "execution_count": null,
      "metadata": {
        "colab": {
          "base_uri": "https://localhost:8080/"
        },
        "id": "UhuUJhnL0nBJ",
        "outputId": "858a8aca-ded7-4095-af56-67e2604b90f8"
      },
      "outputs": [
        {
          "output_type": "stream",
          "name": "stdout",
          "text": [
            "First Name: Hakim\n",
            "Last Name: Kumorow\n",
            "Age: 20\n",
            "IsMarried: False\n"
          ]
        }
      ],
      "source": [
        "firstName = \"Hakim\"\n",
        "lastName = \"Kumorow\"\n",
        "age = 20\n",
        "isMarried = False\n",
        "\n",
        "print(\"First Name:\", firstName)\n",
        "print(\"Last Name:\", lastName)\n",
        "print(\"Age:\", age)\n",
        "print(\"IsMarried:\", isMarried)"
      ]
    },
    {
      "cell_type": "code",
      "source": [
        "inspeksi = [\n",
        "    \"Pemahaman terhadap rencana dan desain\",\n",
        "    \"Ketersediaan bahan dan peralatan\",\n",
        "    \"Pengawasan pekerjaan\",\n",
        "    \"Kualitas konstruksi\",\n",
        "    \"Keselamatan kerja\",\n",
        "    \"Koordinasi dengan pemilik proyek\"\n",
        "]\n",
        "\n",
        "print(inspeksi)"
      ],
      "metadata": {
        "colab": {
          "base_uri": "https://localhost:8080/"
        },
        "id": "PxD5I-or9n8T",
        "outputId": "857fbbaa-1bbc-44d0-9b25-785537262432"
      },
      "execution_count": null,
      "outputs": [
        {
          "output_type": "stream",
          "name": "stdout",
          "text": [
            "['Pemahaman terhadap rencana dan desain', 'Ketersediaan bahan dan peralatan', 'Pengawasan pekerjaan', 'Kualitas konstruksi', 'Keselamatan kerja', 'Koordinasi dengan pemilik proyek']\n"
          ]
        }
      ]
    },
    {
      "cell_type": "code",
      "source": [
        "data_diri = {\n",
        "    \"firstName\": \"Hakim\",\n",
        "    \"lastName\": \"Kumorow\",\n",
        "    \"age\": 20,\n",
        "    \"isMarried\": False\n",
        "}\n",
        "\n",
        "print(data_diri)\n",
        "\n",
        "for key, value in data_diri.items():\n",
        "    print(f\"{key}: {value} (tipe: {type(value)})\")"
      ],
      "metadata": {
        "colab": {
          "base_uri": "https://localhost:8080/"
        },
        "id": "4-gx042N1zVL",
        "outputId": "b24a9c56-9e6a-40f5-f78e-25608ce99f87"
      },
      "execution_count": null,
      "outputs": [
        {
          "output_type": "stream",
          "name": "stdout",
          "text": [
            "{'firstName': 'Hakim', 'lastName': 'Kumorow', 'age': 20, 'isMarried': False}\n",
            "firstName: Hakim (tipe: <class 'str'>)\n",
            "lastName: Kumorow (tipe: <class 'str'>)\n",
            "age: 20 (tipe: <class 'int'>)\n",
            "isMarried: False (tipe: <class 'bool'>)\n"
          ]
        }
      ]
    },
    {
      "cell_type": "code",
      "source": [
        "startTime = {\n",
        "    \"Jam\": 9,\n",
        "    \"Menit\": 23,\n",
        "    \"Detik\": 57\n",
        "}\n",
        "\n",
        "endTime = {\n",
        "    \"Jam\": 15,\n",
        "    \"Menit\": 25,\n",
        "    \"Detik\": 43\n",
        "}\n",
        "\n",
        "print(\"Waktu Datang (startTime):\", startTime)\n",
        "print(\"Waktu Pulang (endTime):\", endTime)"
      ],
      "metadata": {
        "colab": {
          "base_uri": "https://localhost:8080/"
        },
        "id": "2I2zo2WB3nb-",
        "outputId": "37279454-b910-410c-edbb-ba31322af8cb"
      },
      "execution_count": null,
      "outputs": [
        {
          "output_type": "stream",
          "name": "stdout",
          "text": [
            "Waktu Datang (startTime): {'Jam': 9, 'Menit': 23, 'Detik': 57}\n",
            "Waktu Pulang (endTime): {'Jam': 15, 'Menit': 25, 'Detik': 43}\n"
          ]
        }
      ]
    },
    {
      "cell_type": "code",
      "source": [
        "katalog_A = {\"Pensil\", \"Printer\", \"Resistor\", \"Karbu\"}\n",
        "katalog_B = {\"Monitor\", \"Pensil\", \"Scanner\", \"Resistor\"}\n",
        "\n",
        "produk_diskon = (\"Pensil\", \"Monitor\", \"Gardu induk\", \"Printer\")\n",
        "\n",
        "katalog_lengkap = katalog_A.union(katalog_B)\n",
        "\n",
        "produk_promo_aktif = katalog_lengkap.intersection(produk_diskon)\n",
        "\n",
        "print(\"Katalog Lengkap:\", katalog_lengkap)\n",
        "print(\"Produk Promo Aktif:\", produk_promo_aktif)\n"
      ],
      "metadata": {
        "colab": {
          "base_uri": "https://localhost:8080/"
        },
        "id": "tkvraYuSDhsb",
        "outputId": "e58a5c9d-fe29-4647-c094-cef197bf80e8"
      },
      "execution_count": null,
      "outputs": [
        {
          "output_type": "stream",
          "name": "stdout",
          "text": [
            "Katalog Lengkap: {'Pensil', 'Resistor', 'Printer', 'Monitor', 'Scanner', 'Karbu'}\n",
            "Produk Promo Aktif: {'Pensil', 'Monitor', 'Printer'}\n"
          ]
        }
      ]
    }
  ]
}