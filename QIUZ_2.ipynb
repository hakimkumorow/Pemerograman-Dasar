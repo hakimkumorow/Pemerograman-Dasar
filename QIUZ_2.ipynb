{
  "nbformat": 4,
  "nbformat_minor": 0,
  "metadata": {
    "colab": {
      "provenance": [],
      "authorship_tag": "ABX9TyNxDCYlpTbW+Ej+5nbA9U+s",
      "include_colab_link": true
    },
    "kernelspec": {
      "name": "python3",
      "display_name": "Python 3"
    },
    "language_info": {
      "name": "python"
    }
  },
  "cells": [
    {
      "cell_type": "markdown",
      "metadata": {
        "id": "view-in-github",
        "colab_type": "text"
      },
      "source": [
        "<a href=\"https://colab.research.google.com/github/hakimkumorow/Pemerograman-Dasar/blob/main/QIUZ_2.ipynb\" target=\"_parent\"><img src=\"https://colab.research.google.com/assets/colab-badge.svg\" alt=\"Open In Colab\"/></a>"
      ]
    },
    {
      "cell_type": "code",
      "source": [
        "print(\"--- Soal 1 ---\")\n",
        "# Mencetak bilangan genap dari 1 hingga 50\n",
        "for angka in range(2, 51, 4):\n",
        "    print(angka)"
      ],
      "metadata": {
        "colab": {
          "base_uri": "https://localhost:8080/"
        },
        "id": "_06BYrN5r_l7",
        "outputId": "418d9f71-38ce-4f3f-cfef-fd0fd673ef23"
      },
      "execution_count": 40,
      "outputs": [
        {
          "output_type": "stream",
          "name": "stdout",
          "text": [
            "--- Soal 1 ---\n",
            "2\n",
            "6\n",
            "10\n",
            "14\n",
            "18\n",
            "22\n",
            "26\n",
            "30\n",
            "34\n",
            "38\n",
            "42\n",
            "46\n",
            "50\n"
          ]
        }
      ]
    },
    {
      "cell_type": "code",
      "source": [
        "print(\"--- Soal 2 ---\")\n",
        "kode_berhenti = 4232401050\n",
        "input_pengguna = 0 # Inisialisasi awal\n",
        "\n",
        "while input_pengguna != kode_berhenti:\n",
        "    try:\n",
        "        input_pengguna = int(input(\"Masukkan NIM Anda: \"))\n",
        "    except ValueError:\n",
        "        print(\"Input tidak valid. Harap Masukkan NIM dengan benar!.\")\n",
        "\n",
        "print(\"NIM anda berhasil dimasukkan!.\")"
      ],
      "metadata": {
        "colab": {
          "base_uri": "https://localhost:8080/"
        },
        "id": "jXXGe52aj6Gw",
        "outputId": "34348210-5131-4ccc-fe47-2ad61a858a88"
      },
      "execution_count": 36,
      "outputs": [
        {
          "output_type": "stream",
          "name": "stdout",
          "text": [
            "--- Soal 2 ---\n",
            "Masukkan NIM Anda: 4232401032\n",
            "Masukkan NIM Anda: 4232401040\n",
            "Masukkan NIM Anda: \n",
            "Input tidak valid. Harap Masukkan NIM dengan benar!.\n",
            "Masukkan NIM Anda: 42324010550\n",
            "Masukkan NIM Anda: 4232401050\n",
            "NIM anda berhasil dimasukkan!.\n"
          ]
        }
      ]
    },
    {
      "cell_type": "code",
      "source": [
        "print(\"--- Soal 3 ---\")\n",
        "# Daftar harga minimal 10 item\n",
        "harga_barang = [15000, 25000, 700000, 50000, 20000, 12000, 18000, 30000, 80000, 22000]\n",
        "\n",
        "total_belanja = 0\n",
        "\n",
        "for harga in harga_barang:\n",
        "    total_belanja += harga\n",
        "\n",
        "print(\"Total biaya belanja adalah:\", total_belanja)"
      ],
      "metadata": {
        "colab": {
          "base_uri": "https://localhost:8080/"
        },
        "id": "YKg0dt-ksUtm",
        "outputId": "c6d3d153-52ad-49cd-fa3a-2fc45bb2e72c"
      },
      "execution_count": 43,
      "outputs": [
        {
          "output_type": "stream",
          "name": "stdout",
          "text": [
            "--- Soal 3 ---\n",
            "Total biaya belanja adalah: 972000\n"
          ]
        }
      ]
    },
    {
      "cell_type": "code",
      "source": [
        "print(\"--- Soal 4 ---\")\n",
        "percobaan_maksimal = 5\n",
        "percobaan_saat_ini = 1\n",
        "\n",
        "while percobaan_saat_ini <= percobaan_maksimal:\n",
        "    print(f\"Percobaan ke-{percobaan_saat_ini}...\")\n",
        "    # Asumsi ada logika input password di sini\n",
        "    percobaan_saat_ini += 1\n",
        "\n",
        "if percobaan_saat_ini == percobaan_maksimal + 1:\n",
        "    print(\"Kesempatan kamu sudah habis.\")\n",
        "else:\n",
        "    print(\"Akses telah diterima oleh sistem.\")"
      ],
      "metadata": {
        "colab": {
          "base_uri": "https://localhost:8080/"
        },
        "id": "mB-RfF1tsxNl",
        "outputId": "78793fcb-8a44-46ce-941e-702cc611c8a5"
      },
      "execution_count": 46,
      "outputs": [
        {
          "output_type": "stream",
          "name": "stdout",
          "text": [
            "--- Soal 4 ---\n",
            "Percobaan ke-1...\n",
            "Percobaan ke-2...\n",
            "Percobaan ke-3...\n",
            "Percobaan ke-4...\n",
            "Percobaan ke-5...\n",
            "Kesempatan kamu sudah habis.\n"
          ]
        }
      ]
    },
    {
      "cell_type": "code",
      "source": [
        "print(\"--- Soal 5 ---\")\n",
        "nama_proyek = \"Politeknik Negeri Batam\"\n",
        "hasil_output = \"\"\n",
        "\n",
        "for karakter in nama_proyek:\n",
        "    hasil_output += karakter + \"-\"\n",
        "\n",
        "print(hasil_output)"
      ],
      "metadata": {
        "colab": {
          "base_uri": "https://localhost:8080/"
        },
        "id": "WKn65uEytHzW",
        "outputId": "22878d9d-6075-40b6-c403-4b45a2eaa26c"
      },
      "execution_count": 47,
      "outputs": [
        {
          "output_type": "stream",
          "name": "stdout",
          "text": [
            "--- Soal 5 ---\n",
            "P-o-l-i-t-e-k-n-i-k- -N-e-g-e-r-i- -B-a-t-a-m-\n"
          ]
        }
      ]
    },
    {
      "cell_type": "code",
      "source": [
        "print(\"--- Soal 6 ---\")\n",
        "# Countdown dari 255 ke 1\n",
        "for i in range(255, 0, -10):\n",
        "    print(i)"
      ],
      "metadata": {
        "colab": {
          "base_uri": "https://localhost:8080/"
        },
        "id": "YaTlN612tXJz",
        "outputId": "5db3e1c6-076b-4239-9ad1-90b66e3d40f4"
      },
      "execution_count": 52,
      "outputs": [
        {
          "output_type": "stream",
          "name": "stdout",
          "text": [
            "--- Soal 6 ---\n",
            "255\n",
            "245\n",
            "235\n",
            "225\n",
            "215\n",
            "205\n",
            "195\n",
            "185\n",
            "175\n",
            "165\n",
            "155\n",
            "145\n",
            "135\n",
            "125\n",
            "115\n",
            "105\n",
            "95\n",
            "85\n",
            "75\n",
            "65\n",
            "55\n",
            "45\n",
            "35\n",
            "25\n",
            "15\n",
            "5\n"
          ]
        }
      ]
    },
    {
      "cell_type": "code",
      "source": [
        "print(\"--- Soal 7 ---\")\n",
        "# Daftar nama kelurahan di Kota Batam (contoh)\n",
        "kelurahan = [\"Taman Baloi\", \"Batu Ampar\", \"Baloi Permai\", \"Teluk Tering\", \"Sungai Panas\", \"Belian\", \"Kabil\", \"Bengkong\"]\n",
        "\n",
        "for i, nama in enumerate(kelurahan):\n",
        "    # i adalah indeks, nama adalah elemen\n",
        "    print(f\"Kelurahan ke-{i + 1}: {nama}\")"
      ],
      "metadata": {
        "colab": {
          "base_uri": "https://localhost:8080/"
        },
        "id": "YwsCqxxJuF2H",
        "outputId": "ba3f3d10-af36-4fed-8626-e5cf4168f813"
      },
      "execution_count": 55,
      "outputs": [
        {
          "output_type": "stream",
          "name": "stdout",
          "text": [
            "--- Soal 7 ---\n",
            "Kelurahan ke-1: Taman Baloi\n",
            "Kelurahan ke-2: Batu Ampar\n",
            "Kelurahan ke-3: Baloi Permai\n",
            "Kelurahan ke-4: Teluk Tering\n",
            "Kelurahan ke-5: Sungai Panas\n",
            "Kelurahan ke-6: Belian\n",
            "Kelurahan ke-7: Kabil\n",
            "Kelurahan ke-8: Bengkong\n"
          ]
        }
      ]
    },
    {
      "cell_type": "code",
      "source": [
        "print(\"--- Soal 8 ---\")\n",
        "data_angka = [10, 20, 30, 40, 50, 60, 0, 80, 90, 100]\n",
        "\n",
        "for angka in data_angka:\n",
        "    if angka == 0:\n",
        "        break\n",
        "    print(angka)\n",
        "\n",
        "print(\"Program berhenti karena angka 0 ditemukan.\")"
      ],
      "metadata": {
        "colab": {
          "base_uri": "https://localhost:8080/"
        },
        "id": "9JA7wqaMp6bL",
        "outputId": "4322a940-5bda-431f-f618-376d55ac44a4"
      },
      "execution_count": 59,
      "outputs": [
        {
          "output_type": "stream",
          "name": "stdout",
          "text": [
            "--- Soal 8 ---\n",
            "10\n",
            "20\n",
            "30\n",
            "40\n",
            "50\n",
            "60\n",
            "Program berhenti karena angka 0 ditemukan.\n"
          ]
        }
      ]
    },
    {
      "cell_type": "code",
      "source": [
        "print(\"--- Soal 9 ---\")\n",
        "total = 0\n",
        "bilangan = 1\n",
        "batas = 20\n",
        "\n",
        "while total <= batas:\n",
        "    total += bilangan\n",
        "    bilangan += 1\n",
        "\n",
        "print(\"Total terakhir:\", total)"
      ],
      "metadata": {
        "colab": {
          "base_uri": "https://localhost:8080/"
        },
        "id": "uIoNzt88u4yn",
        "outputId": "1d68d230-c8b0-41ef-a112-2106feba3968"
      },
      "execution_count": 60,
      "outputs": [
        {
          "output_type": "stream",
          "name": "stdout",
          "text": [
            "--- Soal 9 ---\n",
            "Total terakhir: 21\n"
          ]
        }
      ]
    },
    {
      "cell_type": "code",
      "source": [
        "print(\"--- Soal 10 ---\")\n",
        "jumlah_baris = 3\n",
        "\n",
        "for baris in range(jumlah_baris):\n",
        "    baris_teks = \"\"\n",
        "    for kolom in range(1):\n",
        "        baris_teks += \"Python \"\n",
        "    print(baris_teks)"
      ],
      "metadata": {
        "colab": {
          "base_uri": "https://localhost:8080/"
        },
        "id": "bn37zlpEvW8Q",
        "outputId": "a1b63ed0-e953-424f-e64b-a691a91a92e2"
      },
      "execution_count": 62,
      "outputs": [
        {
          "output_type": "stream",
          "name": "stdout",
          "text": [
            "--- Soal 10 ---\n",
            "Python \n",
            "Python \n",
            "Python \n"
          ]
        }
      ]
    }
  ]
}